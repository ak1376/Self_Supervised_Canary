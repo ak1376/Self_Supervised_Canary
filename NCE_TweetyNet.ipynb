{
 "cells": [
  {
   "cell_type": "code",
   "execution_count": 16,
   "metadata": {},
   "outputs": [],
   "source": [
    "from itertools import product\n",
    "import numpy as np\n",
    "import matplotlib.pyplot as plt\n",
    "import torch\n",
    "import torch.nn as nn\n",
    "import torch.optim as optim\n",
    "from torch.utils.data import DataLoader, TensorDataset\n",
    "import torch.nn.functional as F\n",
    "from PIL import Image\n",
    "from torchvision import transforms\n",
    "\n",
    "# Parameters we set\n",
    "num_spec = 10\n",
    "window_size = 100\n",
    "stride = 10\n",
    "\n",
    "\n",
    "phrase_repeats = 5\n",
    "num_songs = 10\n",
    "radius_value = 0.01\n",
    "num_syllables = 10\n",
    "\n",
    "folderpath = '/home/akapoor/Dropbox (University of Oregon)/Kapoor_Ananya/01_Projects/01_b_Canary_SSL/Canary_SSL_Repo/'\n",
    "folderpath_song = f'{folderpath}num_songs_{num_songs}_num_syllables_{num_syllables}_phrase_repeats_{phrase_repeats}_radius_{radius_value}/'\n",
    "\n",
    "mean_colors_per_minispec = np.load(f'{folderpath_song}mean_colors_per_minispec.npy')\n",
    "\n",
    "stacked_windows = np.load(f'{folderpath_song}stacked_windows.npy')\n",
    "# stacked_window_times = np.load(f'{folderpath_song}stacked_window_times.npy')\n",
    "stacked_labels_for_window = np.load(f'{folderpath_song}labels_for_window.npy')\n",
    "\n",
    "if torch.cuda.is_available():\n",
    "  device = \"cuda:0\"\n",
    "else:\n",
    "  device = \"cpu\"\n",
    "\n",
    "# Let's shuffle the stacked_windows and stacked_labels_for_window\n",
    "\n",
    "# Shuffle the indices of stacked_windows\n",
    "shuffled_indices = np.random.permutation(stacked_windows.shape[0])\n",
    "\n",
    "# Shuffle array1 using the shuffled indices\n",
    "stacked_windows = stacked_windows[shuffled_indices,:]\n",
    "\n",
    "# Shuffle array2 using the same shuffled indices\n",
    "stacked_labels_for_window = stacked_labels_for_window[shuffled_indices,:]"
   ]
  },
  {
   "cell_type": "code",
   "execution_count": null,
   "metadata": {},
   "outputs": [],
   "source": []
  },
  {
   "cell_type": "code",
   "execution_count": 17,
   "metadata": {},
   "outputs": [],
   "source": [
    "# %% Define neural network\n",
    "\n",
    "class TweetyNetCNN(nn.Module):\n",
    "    def __init__(self):\n",
    "        super().__init__()\n",
    "        self.conv1 = nn.Conv2d(\n",
    "            in_channels=1, out_channels=32, kernel_size=(5, 5), stride=1, padding=1)\n",
    "        self.pool1 = nn.MaxPool2d(kernel_size=(8, 1), stride=(8, 1))\n",
    "        self.conv2 = nn.Conv2d(\n",
    "            in_channels=32, out_channels=64, kernel_size=(5, 5), stride=1, padding=1)\n",
    "        self.pool2 = nn.MaxPool2d(kernel_size=(8, 1), stride=(8, 1))\n",
    "        self.relu = nn.ReLU()\n",
    "        self.fc1 = nn.Linear(64*1*36, 1000)\n",
    "        self.fc2 = nn.Linear(1000, 100)\n",
    "        self.fc3 = nn.Linear(100, 1)\n",
    "        self.sigmoid = nn.Sigmoid()\n",
    "\n",
    "    def forward(self, x):\n",
    "        x = self.conv1(x)\n",
    "        x = self.relu(x)\n",
    "        x = self.pool1(x)\n",
    "        x = self.conv2(x)\n",
    "        x = self.relu(x)\n",
    "        x = self.pool2(x)\n",
    "        x = torch.flatten(x, 1)\n",
    "        x = self.fc1(x)\n",
    "        # x = self.relu(x)\n",
    "        x = self.fc2(x)\n",
    "        # x = self.relu(x)\n",
    "        x = self.fc3(x)\n",
    "        x = self.sigmoid(x)\n",
    "        return x\n",
    "\n",
    "cnn_model = TweetyNetCNN()\n",
    "cnn_model = cnn_model.double().to(device)\n",
    "\n",
    "optimizer = optim.Adam(cnn_model.parameters(), lr=0.001, weight_decay=1e-5)\n",
    "criterion = nn.BCELoss()\n",
    "\n"
   ]
  },
  {
   "cell_type": "code",
   "execution_count": 18,
   "metadata": {},
   "outputs": [
    {
     "name": "stderr",
     "output_type": "stream",
     "text": [
      "/tmp/ipykernel_19394/3920792282.py:17: UserWarning: To copy construct from a tensor, it is recommended to use sourceTensor.clone().detach() or sourceTensor.clone().detach().requires_grad_(True), rather than torch.tensor(sourceTensor).\n",
      "  train_data_tensor = torch.tensor(train_data)\n",
      "/tmp/ipykernel_19394/3920792282.py:18: UserWarning: To copy construct from a tensor, it is recommended to use sourceTensor.clone().detach() or sourceTensor.clone().detach().requires_grad_(True), rather than torch.tensor(sourceTensor).\n",
      "  test_data_tensor = torch.tensor(test_data)\n",
      "/tmp/ipykernel_19394/3920792282.py:19: UserWarning: To copy construct from a tensor, it is recommended to use sourceTensor.clone().detach() or sourceTensor.clone().detach().requires_grad_(True), rather than torch.tensor(sourceTensor).\n",
      "  train_labels_tensor = torch.tensor(train_labels)  # Assuming integer labels\n",
      "/tmp/ipykernel_19394/3920792282.py:20: UserWarning: To copy construct from a tensor, it is recommended to use sourceTensor.clone().detach() or sourceTensor.clone().detach().requires_grad_(True), rather than torch.tensor(sourceTensor).\n",
      "  test_labels_tensor = torch.tensor(test_labels)\n"
     ]
    }
   ],
   "source": [
    "stacked_windows_tensor = stacked_windows.copy()\n",
    "stacked_windows_tensor.shape = (stacked_windows.shape[0], 1, 100, 40)\n",
    "stacked_windows_tensor = torch.tensor(stacked_windows_tensor).double()\n",
    "\n",
    "\n",
    "actual_labels = np.max(stacked_labels_for_window, axis=1)\n",
    "actual_labels = torch.tensor(actual_labels)\n",
    "\n",
    "# Determine the split point for testing data\n",
    "split_point = int(0.7 * stacked_windows_tensor.shape[0])\n",
    "\n",
    "# Split the data into training and testing sets\n",
    "train_data, test_data = stacked_windows_tensor[:split_point,:,:,:], stacked_windows_tensor[split_point:,:,:,:]\n",
    "train_labels, test_labels = actual_labels[:split_point], actual_labels[split_point:]\n",
    "\n",
    "# Convert the numpy arrays to PyTorch tensors\n",
    "train_data_tensor = torch.tensor(train_data)\n",
    "test_data_tensor = torch.tensor(test_data)\n",
    "train_labels_tensor = torch.tensor(train_labels)  # Assuming integer labels\n",
    "test_labels_tensor = torch.tensor(test_labels)\n",
    "\n",
    "# Create TensorDatasets for training and testing sets\n",
    "train_dataset = TensorDataset(train_data_tensor, train_labels_tensor)\n",
    "test_dataset = TensorDataset(test_data_tensor, test_labels_tensor)\n",
    "\n",
    "# Define batch size for DataLoader\n",
    "batch_size = 64\n",
    "\n",
    "# Create DataLoaders for training and testing sets\n",
    "train_loader = DataLoader(train_dataset, batch_size=batch_size, shuffle=False)\n",
    "test_loader = DataLoader(test_dataset, batch_size=batch_size, shuffle=False)  # No need to shuffle test data\n",
    "\n",
    "\n",
    "# Choose a random 64 indices from our total data\n",
    "\n",
    "# batch_indices = np.random.randint(0, stacked_windows_tensor.shape[0], batch_size)\n",
    "\n",
    "# x = stacked_windows_tensor[batch_indices, :,:,:]\n",
    "# y = actual_labels[batch_indices]\n",
    "\n",
    "# # Create a TensorDataset to combine features and labels\n",
    "# dataset = TensorDataset(stacked_windows_tensor, actual_labels)\n",
    "\n",
    "# train_loader = DataLoader(dataset, batch_size=batch_size, shuffle=False)\n",
    "\n",
    "# # Extract the first batch\n",
    "# for batch in train_loader:\n",
    "#     first_batch = batch\n",
    "#     break  # Exit the loop after the first iteration\n",
    "\n",
    "# x = first_batch[0]\n",
    "# y = first_batch[1]\n",
    "\n",
    "positive_sample_index_list = []\n",
    "negative_samples_indices_list = []\n",
    "\n",
    "\n",
    "unique_syllables = torch.unique(actual_labels)\n",
    "\n",
    "indices_dict = {int(element): np.where(actual_labels == element)[0] for element in unique_syllables}\n",
    "num_negative_samples_each = 25\n"
   ]
  },
  {
   "cell_type": "code",
   "execution_count": 19,
   "metadata": {},
   "outputs": [
    {
     "name": "stdout",
     "output_type": "stream",
     "text": [
      "=================================================================\n",
      "Epoch 0, Mean Batch Loss: 2.2678\n",
      "=================================================================\n"
     ]
    }
   ],
   "source": [
    "# %% Train Neural network \n",
    "\n",
    "cnn_model.train()\n",
    "num_epoch = 1\n",
    "mean_batch_loss_per_epoch_list = []\n",
    "for epoch in np.arange(num_epoch):\n",
    "    total_batch_loss_list = []\n",
    "    for batch_idx, (data, targets) in enumerate(train_loader):\n",
    "        batch_loss = 0\n",
    "        for anchor_index in np.arange(data.shape[0]):\n",
    "            anchor_label = targets[anchor_index]\n",
    "            # Sample a positive sample from our total dataset\n",
    "            indices_of_positve_samples = torch.where(actual_labels == anchor_label)[0]\n",
    "            positive_sample_index = torch.randint(0, indices_of_positve_samples.shape[0], size=(1,))\n",
    "            positive_sample_index_list.append(positive_sample_index.item())\n",
    "\n",
    "            # Sample negative samples from our total dataset. We will use a \n",
    "            # weighted probability distribution. There will be a 0.0001 probability\n",
    "            # that we will sample from the positive class and a (1-0.001)/(K-1)\n",
    "            # probability that we sample from the remaining K-1 classes\n",
    "\n",
    "            # Create a tensor with custom probabilities\n",
    "            epsilon = 0.0001\n",
    "            probs = torch.zeros((1, unique_syllables.shape[0]))\n",
    "            probs[:,:] = (1-epsilon)/(probs.shape[1]-1)\n",
    "            probs[:,int(anchor_label)] = epsilon\n",
    "\n",
    "\n",
    "            # Number of samples to generate\n",
    "            num_samples = unique_syllables.shape[0] - 1\n",
    "\n",
    "            # Sample indices based on the custom probabilities\n",
    "            sampled_labels = torch.multinomial(probs, num_samples, replacement=False)\n",
    "\n",
    "            # Now let's randomly sample an index value from each sampled label\n",
    "\n",
    "            random_samples = {key: np.random.choice(values, num_negative_samples_each) for key, values in indices_dict.items() if key in sampled_labels}\n",
    "            indices_of_negative_samples = np.array(list(random_samples.values()))\n",
    "            negative_samples_indices_list.append(indices_of_negative_samples)\n",
    "            a = np.stack(indices_of_negative_samples)\n",
    "            indices_of_negative_samples = np.stack(indices_of_negative_samples).reshape(a.shape[0]*a.shape[1],)\n",
    "\n",
    "\n",
    "            # Now let's extract the positive and negative samples' spectrogram \n",
    "            # slices\n",
    "\n",
    "            positive_sample = stacked_windows_tensor[positive_sample_index, :,:,:]\n",
    "            negative_samples = stacked_windows_tensor[indices_of_negative_samples, :,:,:]\n",
    "\n",
    "            dat = torch.concatenate((positive_sample, negative_samples))\n",
    "\n",
    "            artificial_labels = torch.zeros((1,1 + (unique_syllables.shape[0]-1)*num_negative_samples_each))\n",
    "            artificial_labels[:,0] = 1\n",
    "\n",
    "            # Get the number of rows in the tensors\n",
    "            num_rows = dat.shape[0]\n",
    "\n",
    "            # Generate a random permutation of indices\n",
    "            shuffled_indices_pseudo = torch.randperm(num_rows)\n",
    "\n",
    "            # Shuffle both tensors based on the same indices\n",
    "            dat = dat[shuffled_indices_pseudo,:,:,:].to(device)\n",
    "            artificial_labels = artificial_labels[:,shuffled_indices_pseudo].to(device)\n",
    "\n",
    "            pred_probs = cnn_model(dat)\n",
    "\n",
    "            # h_t = 1/(1+torch.exp(-1*(torch.log(pred_probs) - torch.log(probs).T)))\n",
    "            # torch.sum(artificial_labels.T*torch.log(h_t) + (1-artificial_labels.T)*torch.log(h_t))\n",
    "\n",
    "            loss = criterion(pred_probs, artificial_labels.T.double())\n",
    "            batch_loss+=loss\n",
    "\n",
    "        total_batch_loss_list.append(batch_loss.item())\n",
    "        # print(f'Batch Loss: {batch_loss.item():.4f}')\n",
    "        optimizer.zero_grad()\n",
    "        batch_loss.backward()\n",
    "        optimizer.step()\n",
    "    mean_batch_loss_per_epoch = np.mean(total_batch_loss_list)\n",
    "    mean_batch_loss_per_epoch_list.append(mean_batch_loss_per_epoch)\n",
    "    print(\"=================================================================\")\n",
    "    print(f'Epoch {epoch}, Mean Batch Loss: {mean_batch_loss_per_epoch:.4f}')\n",
    "    print(\"=================================================================\")\n",
    "\n",
    "    "
   ]
  },
  {
   "cell_type": "code",
   "execution_count": 20,
   "metadata": {},
   "outputs": [
    {
     "data": {
      "image/png": "[encoded data removed]",
      "text/plain": [
       "<Figure size 640x480 with 1 Axes>"
      ]
     },
     "metadata": {},
     "output_type": "display_data"
    }
   ],
   "source": [
    "plt.figure()\n",
    "plt.title(\"Loss Curve\")\n",
    "plt.xlabel(\"Epoch Number\")\n",
    "plt.ylabel(\"NCE Loss\")\n",
    "plt.plot(mean_batch_loss_per_epoch_list)\n",
    "plt.show()"
   ]
  },
  {
   "attachments": {},
   "cell_type": "markdown",
   "metadata": {},
   "source": [
    "Push our training data through the model to obtain an embedding"
   ]
  },
  {
   "cell_type": "code",
   "execution_count": 21,
   "metadata": {},
   "outputs": [],
   "source": [
    "cnn_model.to('cpu').eval()\n",
    "model_embedding_arr = torch.empty((0,1000)).to('cpu')\n",
    "for batch_idx, (data, targets) in enumerate(train_loader):\n",
    "    x = cnn_model.conv1(data.to('cpu'))\n",
    "    x = cnn_model.relu(x)\n",
    "    x = cnn_model.pool1(x)\n",
    "    x = cnn_model.conv2(x)\n",
    "    x = cnn_model.relu(x)\n",
    "    x = cnn_model.pool2(x)\n",
    "    x = torch.flatten(x, 1)\n",
    "    x = cnn_model.fc1(x)\n",
    "    model_embedding_arr = torch.concatenate((model_embedding_arr, x))"
   ]
  },
  {
   "cell_type": "code",
   "execution_count": 22,
   "metadata": {},
   "outputs": [
    {
     "data": {
      "text/plain": [
       "torch.Size([17811, 1000])"
      ]
     },
     "execution_count": 22,
     "metadata": {},
     "output_type": "execute_result"
    }
   ],
   "source": [
    "model_embedding_arr.shape"
   ]
  },
  {
   "attachments": {},
   "cell_type": "markdown",
   "metadata": {},
   "source": [
    "Do a UMAP on our training data's embedding"
   ]
  },
  {
   "cell_type": "code",
   "execution_count": 23,
   "metadata": {},
   "outputs": [],
   "source": [
    "import umap\n",
    "reducer = umap.UMAP()\n",
    "embedding_umap = reducer.fit_transform(model_embedding_arr.cpu().detach().numpy())"
   ]
  },
  {
   "cell_type": "code",
   "execution_count": 24,
   "metadata": {},
   "outputs": [],
   "source": [
    "from bokeh.plotting import figure, show, output_file, save\n",
    "from bokeh.models import HoverTool, ColumnDataSource\n",
    "import pandas as pd"
   ]
  },
  {
   "cell_type": "code",
   "execution_count": 26,
   "metadata": {},
   "outputs": [
    {
     "data": {
      "text/plain": [
       "array([ 9552,  7910, 12812, ..., 23866,  4790, 14288])"
      ]
     },
     "execution_count": 26,
     "metadata": {},
     "output_type": "execute_result"
    }
   ],
   "source": [
    "shuffled_indices[:split_point]"
   ]
  },
  {
   "cell_type": "code",
   "execution_count": 27,
   "metadata": {},
   "outputs": [],
   "source": [
    "mean_colors_per_minispec_training = mean_colors_per_minispec[shuffled_indices[:split_point],:]\n",
    "mean_colors_per_minispec_testing = mean_colors_per_minispec[shuffled_indices[split_point:],:]"
   ]
  },
  {
   "cell_type": "code",
   "execution_count": 30,
   "metadata": {},
   "outputs": [
    {
     "name": "stderr",
     "output_type": "stream",
     "text": [
      "BokehUserWarning: ColumnDataSource's columns must be of the same length. Current lengths: ('colors', 17811), ('image', 0), ('x', 17811), ('y', 17811)\n"
     ]
    }
   ],
   "source": [
    "# Specify an HTML file to save the Bokeh image to.\n",
    "output_file(filename='umap_of_TweetyNet_Embed_NCE.html')\n",
    "\n",
    "# Convert the UMAP embedding to a Pandas Dataframe\n",
    "spec_df = pd.DataFrame(embedding_umap, columns=('x', 'y'))\n",
    "\n",
    "\n",
    "# Create a ColumnDataSource from the data. This contains the UMAP embedding components and the mean colors per mini-spectrogram\n",
    "source = ColumnDataSource(data=dict(x = embedding_umap[:,0], y = embedding_umap[:,1], colors=mean_colors_per_minispec_training))\n",
    "\n",
    "\n",
    "# Create a figure and add a scatter plot\n",
    "p = figure(width=800, height=600, tools=('pan, box_zoom, hover, reset'))\n",
    "p.scatter(x='x', y='y', size = 7, color = 'colors', source=source)\n",
    "\n",
    "hover = p.select(dict(type=HoverTool))\n",
    "hover.tooltips = \"\"\"\n",
    "    <div>\n",
    "        <h3>@x, @y</h3>\n",
    "        <div>\n",
    "            <img\n",
    "                src=\"@image\" height=\"100\" alt=\"@image\" width=\"100\"\n",
    "                style=\"float: left; margin: 0px 15px 15px 0px;\"\n",
    "                border=\"2\"\n",
    "            ></img>\n",
    "        </div>\n",
    "    </div>\n",
    "\"\"\"\n",
    "\n",
    "p.add_tools(HoverTool(tooltips=\"\"\"\n",
    "\"\"\"))\n",
    "\n",
    "\n",
    "# Set the image path for each data point\n",
    "# source.data['image'] = []\n",
    "# for i in np.arange(spec_df.shape[0]):\n",
    "#     source.data['image'].append(f'{folderpath_song}/Plots/Window_Plots/Window_{shuffled_indices[split_point:]}.png')\n",
    "\n",
    "show(p)\n",
    "\n",
    "# save(p)\n"
   ]
  },
  {
   "cell_type": "code",
   "execution_count": 31,
   "metadata": {},
   "outputs": [
    {
     "data": {
      "text/plain": [
       "array([ 9552,  7910, 12812, ..., 23866,  4790, 14288])"
      ]
     },
     "execution_count": 31,
     "metadata": {},
     "output_type": "execute_result"
    }
   ],
   "source": [
    "shuffled_indices[:split_point]"
   ]
  },
  {
   "attachments": {},
   "cell_type": "markdown",
   "metadata": {},
   "source": [
    "Apply UMAP to the raw training data spectrograms"
   ]
  },
  {
   "cell_type": "code",
   "execution_count": 33,
   "metadata": {},
   "outputs": [],
   "source": [
    "reducer_umap_alone = umap.UMAP()\n",
    "embedding_umap_alone = reducer_umap_alone.fit_transform(train_data_tensor.cpu().detach().numpy().reshape(train_data_tensor.shape[0],-1))\n"
   ]
  },
  {
   "cell_type": "code",
   "execution_count": 34,
   "metadata": {},
   "outputs": [
    {
     "data": {
      "text/plain": [
       "(17811, 4000)"
      ]
     },
     "execution_count": 34,
     "metadata": {},
     "output_type": "execute_result"
    }
   ],
   "source": [
    "train_data_tensor.cpu().detach().numpy().reshape(train_data_tensor.shape[0],-1).shape"
   ]
  },
  {
   "cell_type": "code",
   "execution_count": 35,
   "metadata": {},
   "outputs": [],
   "source": [
    "# Specify an HTML file to save the Bokeh image to.\n",
    "output_file(filename='umap_alone.html')\n",
    "\n",
    "# Convert the UMAP embedding to a Pandas Dataframe\n",
    "spec_df = pd.DataFrame(embedding_umap_alone, columns=('x', 'y'))\n",
    "\n",
    "\n",
    "# Create a ColumnDataSource from the data. This contains the UMAP embedding components and the mean colors per mini-spectrogram\n",
    "source = ColumnDataSource(data=dict(x = embedding_umap_alone[:,0], y = embedding_umap_alone[:,1], colors=mean_colors_per_minispec_training))\n",
    "\n",
    "\n",
    "# Create a figure and add a scatter plot\n",
    "p = figure(width=800, height=600, tools=('pan, box_zoom, hover, reset'))\n",
    "p.scatter(x='x', y='y', size = 7, color = 'colors', source=source)\n",
    "\n",
    "hover = p.select(dict(type=HoverTool))\n",
    "hover.tooltips = \"\"\"\n",
    "    <div>\n",
    "        <h3>@x, @y</h3>\n",
    "        <div>\n",
    "            <img\n",
    "                src=\"@image\" height=\"100\" alt=\"@image\" width=\"100\"\n",
    "                style=\"float: left; margin: 0px 15px 15px 0px;\"\n",
    "                border=\"2\"\n",
    "            ></img>\n",
    "        </div>\n",
    "    </div>\n",
    "\"\"\"\n",
    "\n",
    "p.add_tools(HoverTool(tooltips=\"\"\"\n",
    "\"\"\"))\n",
    "\n",
    "\n",
    "# Set the image path for each data point\n",
    "# source.data['image'] = []\n",
    "# for i in np.arange(spec_df.shape[0]):\n",
    "#     source.data['image'].append(f'{songpath}/Plots/Window_Plots/Window_{shuffled_indices[split_point:[i]]}.png')\n",
    "\n",
    "show(p)\n",
    "\n",
    "# save(p)"
   ]
  },
  {
   "attachments": {},
   "cell_type": "markdown",
   "metadata": {},
   "source": [
    "Push our testing data through the model"
   ]
  },
  {
   "cell_type": "code",
   "execution_count": 36,
   "metadata": {},
   "outputs": [],
   "source": [
    "cnn_model.to('cpu').eval()\n",
    "model_embedding_arr_testing = torch.empty((0,1000)).to('cpu')\n",
    "for batch_idx, (data, targets) in enumerate(test_loader):\n",
    "    x = cnn_model.conv1(data.to('cpu'))\n",
    "    x = cnn_model.relu(x)\n",
    "    x = cnn_model.pool1(x)\n",
    "    x = cnn_model.conv2(x)\n",
    "    x = cnn_model.relu(x)\n",
    "    x = cnn_model.pool2(x)\n",
    "    x = torch.flatten(x, 1)\n",
    "    x = cnn_model.fc1(x)\n",
    "    model_embedding_arr_testing = torch.concatenate((model_embedding_arr_testing, x))"
   ]
  },
  {
   "cell_type": "code",
   "execution_count": 37,
   "metadata": {},
   "outputs": [],
   "source": [
    "import umap\n",
    "reducer = umap.UMAP()\n",
    "embedding_umap_testing = reducer.fit_transform(model_embedding_arr_testing.cpu().detach().numpy())"
   ]
  },
  {
   "cell_type": "code",
   "execution_count": 38,
   "metadata": {},
   "outputs": [],
   "source": [
    "# Specify an HTML file to save the Bokeh image to.\n",
    "output_file(filename='umap_of_TweetyNet_Embed_NCE_testing.html')\n",
    "\n",
    "# Convert the UMAP embedding to a Pandas Dataframe\n",
    "spec_df = pd.DataFrame(embedding_umap_testing, columns=('x', 'y'))\n",
    "\n",
    "\n",
    "# Create a ColumnDataSource from the data. This contains the UMAP embedding components and the mean colors per mini-spectrogram\n",
    "source = ColumnDataSource(data=dict(x = embedding_umap_testing[:,0], y = embedding_umap_testing[:,1], colors=mean_colors_per_minispec_testing))\n",
    "\n",
    "\n",
    "# Create a figure and add a scatter plot\n",
    "p = figure(width=800, height=600, tools=('pan, box_zoom, hover, reset'))\n",
    "p.scatter(x='x', y='y', size = 7, color = 'colors', source=source)\n",
    "\n",
    "hover = p.select(dict(type=HoverTool))\n",
    "hover.tooltips = \"\"\"\n",
    "    <div>\n",
    "        <h3>@x, @y</h3>\n",
    "        <div>\n",
    "            <img\n",
    "                src=\"@image\" height=\"100\" alt=\"@image\" width=\"100\"\n",
    "                style=\"float: left; margin: 0px 15px 15px 0px;\"\n",
    "                border=\"2\"\n",
    "            ></img>\n",
    "        </div>\n",
    "    </div>\n",
    "\"\"\"\n",
    "\n",
    "p.add_tools(HoverTool(tooltips=\"\"\"\n",
    "\"\"\"))\n",
    "\n",
    "\n",
    "# Set the image path for each data point\n",
    "# source.data['image'] = []\n",
    "# for i in np.arange(spec_df.shape[0]):\n",
    "#     source.data['image'].append(f'{songpath}/Plots/Window_Plots/Window_{i}.png')\n",
    "\n",
    "show(p)\n",
    "\n",
    "# save(p)\n"
   ]
  },
  {
   "cell_type": "code",
   "execution_count": 39,
   "metadata": {},
   "outputs": [
    {
     "data": {
      "text/plain": [
       "torch.Size([7634, 1, 100, 40])"
      ]
     },
     "execution_count": 39,
     "metadata": {},
     "output_type": "execute_result"
    }
   ],
   "source": [
    "test_data.shape"
   ]
  },
  {
   "cell_type": "code",
   "execution_count": 40,
   "metadata": {},
   "outputs": [
    {
     "data": {
      "text/plain": [
       "torch.Size([17811, 1, 100, 40])"
      ]
     },
     "execution_count": 40,
     "metadata": {},
     "output_type": "execute_result"
    }
   ],
   "source": [
    "train_data.shape"
   ]
  },
  {
   "cell_type": "code",
   "execution_count": 41,
   "metadata": {},
   "outputs": [
    {
     "data": {
      "text/plain": [
       "25445"
      ]
     },
     "execution_count": 41,
     "metadata": {},
     "output_type": "execute_result"
    }
   ],
   "source": [
    "7634 + 17811"
   ]
  },
  {
   "cell_type": "code",
   "execution_count": 42,
   "metadata": {},
   "outputs": [
    {
     "data": {
      "text/plain": [
       "0.3000196502259776"
      ]
     },
     "execution_count": 42,
     "metadata": {},
     "output_type": "execute_result"
    }
   ],
   "source": [
    "7634/25445"
   ]
  },
  {
   "attachments": {},
   "cell_type": "markdown",
   "metadata": {},
   "source": [
    "Let's quantify how well the model classifies syllables"
   ]
  },
  {
   "cell_type": "code",
   "execution_count": 47,
   "metadata": {},
   "outputs": [
    {
     "name": "stdout",
     "output_type": "stream",
     "text": [
      "Accuracy: 0.97446\n"
     ]
    },
    {
     "ename": "",
     "evalue": "",
     "output_type": "error",
     "traceback": [
      "\u001b[1;31mThe Kernel crashed while executing code in the the current cell or a previous cell. Please review the code in the cell(s) to identify a possible cause of the failure. Click <a href='https://aka.ms/vscodeJupyterKernelCrash'>here</a> for more info. View Jupyter <a href='command:jupyter.viewOutput'>log</a> for further details."
     ]
    }
   ],
   "source": [
    "from sklearn.svm import SVC\n",
    "from sklearn.metrics import accuracy_score\n",
    "\n",
    "# Create an instance of SVC with a linear kernel\n",
    "svc_classifier = SVC(kernel='linear')\n",
    "\n",
    "# Train the classifier on the training data\n",
    "svc_classifier.fit(embedding_umap_testing, test_labels)\n",
    "\n",
    "# Make predictions on the test data\n",
    "y_pred = svc_classifier.predict(embedding_umap_testing)\n",
    "\n",
    "# Evaluate the accuracy of the classifier\n",
    "accuracy = accuracy_score(test_labels, y_pred)\n",
    "print(f\"Accuracy: {accuracy:.5f}\")"
   ]
  },
  {
   "cell_type": "code",
   "execution_count": null,
   "metadata": {},
   "outputs": [],
   "source": []
  }
 ],
 "metadata": {
  "kernelspec": {
   "display_name": "Python 3 (ipykernel)",
   "language": "python",
   "name": "python3"
  },
  "language_info": {
   "codemirror_mode": {
    "name": "ipython",
    "version": 3
   },
   "file_extension": ".py",
   "mimetype": "text/x-python",
   "name": "python",
   "nbconvert_exporter": "python",
   "pygments_lexer": "ipython3",
   "version": "3.10.9"
  }
 },
 "nbformat": 4,
 "nbformat_minor": 2
}
