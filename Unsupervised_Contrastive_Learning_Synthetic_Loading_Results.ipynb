{
 "cells": [
  {
   "cell_type": "markdown",
   "metadata": {},
   "source": [
    "# Experiments with Unsupervised Contrastive Learning"
   ]
  },
  {
   "cell_type": "markdown",
   "metadata": {},
   "source": [
    "I want to be able to understand each component of each model. This will be achieved by carefully designing experiments. I will first use the synthetic data as a first pass and see how our unsupervised model performs on it. The control variables I will use are the following:\n",
    "1. Same dataset size. I will divide windows from 100 spectrograms, stride = 10, window_size = 100 into training and testing datasets. \n",
    "2. Same neural network architecture. I will use the TweetyNet model as our convolutional frontend\n",
    "3. Same model hyperparameters "
   ]
  },
  {
   "cell_type": "code",
   "execution_count": 2,
   "metadata": {},
   "outputs": [],
   "source": [
    "import numpy as np\n",
    "import matplotlib.pyplot as plt \n",
    "import scipy.signal as signal\n",
    "# import sounddevice as sd  \n",
    "from scipy.io.wavfile import write\n",
    "import pandas as pd\n",
    "import seaborn as sns \n",
    "import umap\n",
    "import os \n",
    "from bokeh.plotting import figure, show, output_file, save\n",
    "from bokeh.models import HoverTool, ColumnDataSource\n",
    "import seaborn as sns\n",
    "import pickle\n",
    "import torch\n",
    "import torch.nn as nn\n",
    "import torch.nn.functional as F\n",
    "import torch.optim as optim\n",
    "from torch.optim import lr_scheduler\n",
    "from torch.utils.data import DataLoader, Dataset\n",
    "from torch.cuda import amp\n",
    "from torch.utils.data import DataLoader, TensorDataset\n",
    "from pytorch_metric_learning import losses\n",
    "\n",
    "\n",
    "sns.set(style='white', context='notebook', rc={'figure.figsize':(14,10)})"
   ]
  },
  {
   "cell_type": "code",
   "execution_count": 3,
   "metadata": {},
   "outputs": [],
   "source": [
    "# Parameters we set\n",
    "num_spec = 50\n",
    "window_size = 500\n",
    "stride = 10\n",
    "\n",
    "\n",
    "phrase_repeats = 5\n",
    "num_songs = 50\n",
    "radius_value = 0.01\n",
    "num_syllables = 10\n",
    "\n",
    "folderpath = '/home/akapoor/Dropbox (University of Oregon)/Kapoor_Ananya/01_Projects/01_b_Canary_SSL/Canary_SSL_Repo/'\n",
    "songpath = f'{folderpath}num_songs_{num_songs}_num_syllables_{num_syllables}_phrase_repeats_{phrase_repeats}_radius_{radius_value}/'\n",
    "spec_path = f'{songpath}Num_Spectrograms_{num_spec}_Window_Size_{window_size}_Stride_{stride}/'\n"
   ]
  },
  {
   "cell_type": "markdown",
   "metadata": {},
   "source": [
    "### Loading results from a previous analysis"
   ]
  },
  {
   "cell_type": "code",
   "execution_count": 4,
   "metadata": {},
   "outputs": [],
   "source": [
    "# Let's save all the numpy arrays\n",
    "stacked_windows = np.load(spec_path+'stacked_windows.npy')\n",
    "stacked_labels_for_window = np.load(spec_path+'stacked_labels_for_window.npy')\n",
    "masked_frequencies = np.load(spec_path+'masked_frequencies_lowthresh_600_highthresh_4000.npy')\n",
    "stacked_window_times = np.load(spec_path+'stacked_window_times.npy')\n",
    "mean_colors_per_minispec = np.load(spec_path+'mean_colors_per_minispec.npy')\n",
    "embedding_50k = np.load(songpath+'UMAP_Embedding_of_spec.npy')"
   ]
  },
  {
   "cell_type": "code",
   "execution_count": 5,
   "metadata": {},
   "outputs": [],
   "source": [
    "stacked_windows_for_analysis = stacked_windows[:50000,:]\n",
    "\n",
    "from statistics import mode\n",
    "actual_labels = np.apply_along_axis(lambda x: mode(x), axis=1, arr=stacked_labels_for_window)\n",
    "\n",
    "# Shuffle the indices of stacked_windows\n",
    "shuffled_indices = np.load(f'{spec_path}/shuffled_indices.npy')\n",
    "\n",
    "# Shuffle array1 using the shuffled indices\n",
    "stacked_windows_for_analysis = stacked_windows_for_analysis[shuffled_indices,:]\n",
    "\n",
    "# Shuffle array2 using the same shuffled indices\n",
    "stacked_labels_for_analysis= stacked_labels_for_window[shuffled_indices,:]\n",
    "\n",
    "mean_colors_per_minispec_for_analysis = mean_colors_per_minispec[shuffled_indices, :]\n",
    "\n",
    "actual_labels_for_analysis = actual_labels[shuffled_indices]"
   ]
  },
  {
   "cell_type": "markdown",
   "metadata": {},
   "source": [
    "#### Let's make sure no issues were made in shuffling"
   ]
  },
  {
   "cell_type": "code",
   "execution_count": 6,
   "metadata": {},
   "outputs": [],
   "source": [
    "embedding_check = embedding_50k.copy()"
   ]
  },
  {
   "cell_type": "code",
   "execution_count": 7,
   "metadata": {},
   "outputs": [
    {
     "data": {
      "text/plain": [
       "(125172, 3)"
      ]
     },
     "execution_count": 7,
     "metadata": {},
     "output_type": "execute_result"
    }
   ],
   "source": [
    "mean_colors_per_minispec.shape"
   ]
  },
  {
   "cell_type": "code",
   "execution_count": 8,
   "metadata": {},
   "outputs": [],
   "source": [
    "# Specify an HTML file to save the Bokeh image to.\n",
    "output_file(filename=f'{songpath}Num_Spectrograms_{num_spec}_Window_Size_{window_size}_Stride_{stride}/Plots/umap.html')\n",
    "\n",
    "# Convert the UMAP embedding to a Pandas Dataframe\n",
    "spec_df = pd.DataFrame(embedding_check, columns=('x', 'y'))\n",
    "\n",
    "\n",
    "# Create a ColumnDataSource from the data. This contains the UMAP embedding components and the mean colors per mini-spectrogram\n",
    "source = ColumnDataSource(data=dict(x = embedding_check[:,0], y = embedding_check[:,1], colors=mean_colors_per_minispec_for_analysis))\n",
    "\n",
    "\n",
    "# Create a figure and add a scatter plot\n",
    "p = figure(width=800, height=600, tools=('pan, box_zoom, hover, reset'))\n",
    "p.scatter(x='x', y='y', size = 7, color = 'colors', source=source)\n",
    "\n",
    "hover = p.select(dict(type=HoverTool))\n",
    "hover.tooltips = \"\"\"\n",
    "    <div>\n",
    "        <h3>@x, @y</h3>\n",
    "        <div>\n",
    "            <img\n",
    "                src=\"@image\" height=\"100\" alt=\"@image\" width=\"100\"\n",
    "                style=\"float: left; margin: 0px 15px 15px 0px;\"\n",
    "                border=\"2\"\n",
    "            ></img>\n",
    "        </div>\n",
    "    </div>\n",
    "\"\"\"\n",
    "\n",
    "p.add_tools(HoverTool(tooltips=\"\"\"\n",
    "\"\"\"))\n",
    "\n",
    "\n",
    "# Set the image path for each data point\n",
    "# source.data['image'] = []\n",
    "# for i in np.arange(spec_df.shape[0]):\n",
    "#     source.data['image'].append(f'{folder_name}/Plots/Window_Plots/Window_{i}.png')\n",
    "\n",
    "show(p)\n"
   ]
  },
  {
   "cell_type": "markdown",
   "metadata": {},
   "source": [
    "Let's remove transition slices from the 50k dataset. "
   ]
  },
  {
   "cell_type": "code",
   "execution_count": 9,
   "metadata": {},
   "outputs": [],
   "source": [
    "transition_rows = np.where(np.apply_along_axis(lambda x: len(np.unique(x)) >= 3, 1, stacked_labels_for_analysis))[0]\n"
   ]
  },
  {
   "cell_type": "code",
   "execution_count": 10,
   "metadata": {},
   "outputs": [
    {
     "data": {
      "text/plain": [
       "array([    4,    14,    18, ..., 49992, 49994, 49996])"
      ]
     },
     "execution_count": 10,
     "metadata": {},
     "output_type": "execute_result"
    }
   ],
   "source": [
    "transition_rows"
   ]
  },
  {
   "cell_type": "code",
   "execution_count": 11,
   "metadata": {},
   "outputs": [],
   "source": [
    "stacked_windows_for_analysis_nontransitions = np.delete(stacked_windows_for_analysis, transition_rows, axis = 0)\n",
    "mean_colors_per_minispec_for_analysis_nontransitions = np.delete(mean_colors_per_minispec_for_analysis, transition_rows, axis = 0)\n",
    "stacked_labels_for_analysis_nontransitions = np.delete(stacked_labels_for_analysis, transition_rows, axis = 0)\n",
    "actual_labels_for_analysis_nontransitions = np.apply_along_axis(lambda x: mode(x), axis=1, arr=stacked_labels_for_analysis_nontransitions)"
   ]
  },
  {
   "cell_type": "markdown",
   "metadata": {},
   "source": [
    "Let's Z-score"
   ]
  },
  {
   "cell_type": "code",
   "execution_count": 12,
   "metadata": {},
   "outputs": [],
   "source": [
    "mean = np.mean(stacked_windows_for_analysis_nontransitions, axis=1, keepdims=True)\n",
    "std = np.std(stacked_windows_for_analysis_nontransitions, axis=1, keepdims=True)\n",
    "    \n",
    "# z-score each row\n",
    "# zscored = (stacked_windows_for_analysis - mean) / std\n",
    "zscored = (stacked_windows_for_analysis_nontransitions - mean) / (std + 1e-7)\n",
    "\n",
    "dat = zscored.copy()"
   ]
  },
  {
   "cell_type": "markdown",
   "metadata": {},
   "source": [
    "Let's look at the UMAP representation of non-transitions"
   ]
  },
  {
   "cell_type": "code",
   "execution_count": 13,
   "metadata": {},
   "outputs": [],
   "source": [
    "embedding_nontransitions = np.load(spec_path+'UMAP_Embedding_of_spec_non_transitions_subset_data.npy')"
   ]
  },
  {
   "cell_type": "code",
   "execution_count": 14,
   "metadata": {},
   "outputs": [],
   "source": [
    "# Specify an HTML file to save the Bokeh image to.\n",
    "output_file(filename=f'{songpath}Num_Spectrograms_{num_spec}_Window_Size_{window_size}_Stride_{stride}/Plots/umap_non_transitions.html')\n",
    "\n",
    "# Convert the UMAP embedding to a Pandas Dataframe\n",
    "spec_df = pd.DataFrame(embedding_nontransitions, columns=('x', 'y'))\n",
    "\n",
    "\n",
    "# Create a ColumnDataSource from the data. This contains the UMAP embedding components and the mean colors per mini-spectrogram\n",
    "source = ColumnDataSource(data=dict(x = embedding_nontransitions[:,0], y = embedding_nontransitions[:,1], colors=mean_colors_per_minispec_for_analysis_nontransitions))\n",
    "\n",
    "\n",
    "# Create a figure and add a scatter plot\n",
    "p = figure(width=800, height=600, tools=('pan, box_zoom, hover, reset'))\n",
    "p.scatter(x='x', y='y', size = 7, color = 'colors', source=source)\n",
    "\n",
    "hover = p.select(dict(type=HoverTool))\n",
    "hover.tooltips = \"\"\"\n",
    "    <div>\n",
    "        <h3>@x, @y</h3>\n",
    "        <div>\n",
    "            <img\n",
    "                src=\"@image\" height=\"100\" alt=\"@image\" width=\"100\"\n",
    "                style=\"float: left; margin: 0px 15px 15px 0px;\"\n",
    "                border=\"2\"\n",
    "            ></img>\n",
    "        </div>\n",
    "    </div>\n",
    "\"\"\"\n",
    "\n",
    "p.add_tools(HoverTool(tooltips=\"\"\"\n",
    "\"\"\"))\n",
    "\n",
    "\n",
    "# Set the image path for each data point\n",
    "# source.data['image'] = []\n",
    "# for i in np.arange(spec_df.shape[0]):\n",
    "#     source.data['image'].append(f'{folder_name}/Plots/Window_Plots/Window_{i}.png')\n",
    "\n",
    "show(p)\n",
    "# save(p)"
   ]
  },
  {
   "cell_type": "markdown",
   "metadata": {},
   "source": [
    "#### Creating training/testing dataset"
   ]
  },
  {
   "cell_type": "code",
   "execution_count": 15,
   "metadata": {},
   "outputs": [],
   "source": [
    "# I want to make training indices to be the first 80% of the shuffled data\n",
    "split_point = int(0.8*dat.shape[0])\n",
    "\n",
    "stacked_windows_train = torch.tensor(dat[:split_point, :])\n",
    "stacked_windows_train = stacked_windows_train.reshape(stacked_windows_train.shape[0], 1, 500, 40)\n",
    "\n",
    "stacked_labels_train = stacked_labels_for_analysis_nontransitions[:split_point,:]\n",
    "mean_colors_per_minispec_train = mean_colors_per_minispec_for_analysis_nontransitions[:split_point,:]\n",
    "actual_labels_train = torch.tensor(actual_labels_for_analysis_nontransitions[:split_point])\n",
    "\n",
    "# The testing data will be the left-out 20%\n",
    "\n",
    "stacked_windows_test = torch.tensor(dat[split_point:, :])\n",
    "stacked_windows_test = stacked_windows_test.reshape(stacked_windows_test.shape[0], 1, 500, 40)\n",
    "\n",
    "stacked_labels_test = stacked_labels_for_analysis_nontransitions[split_point:,:]\n",
    "mean_colors_per_minispec_test = mean_colors_per_minispec_for_analysis_nontransitions[split_point:,:]\n",
    "actual_labels_test = torch.tensor(actual_labels_for_analysis_nontransitions[split_point:])"
   ]
  },
  {
   "cell_type": "code",
   "execution_count": 16,
   "metadata": {},
   "outputs": [],
   "source": [
    "train_dataset = TensorDataset(stacked_windows_train, actual_labels_train)\n",
    "test_dataset = TensorDataset(stacked_windows_test, actual_labels_test)\n",
    "\n",
    "# Define batch size\n",
    "# batch_size = CFG.batch_size\n",
    "batch_size = 128\n",
    "\n",
    "# Create a DataLoader\n",
    "train_dataloader = DataLoader(train_dataset, batch_size=batch_size, shuffle=False)\n",
    "test_dataloader = DataLoader(test_dataset, batch_size=batch_size, shuffle=False)"
   ]
  },
  {
   "cell_type": "code",
   "execution_count": 17,
   "metadata": {},
   "outputs": [
    {
     "name": "stdout",
     "output_type": "stream",
     "text": [
      "/home/akapoor/Dropbox (University of Oregon)/Kapoor_Ananya/01_Projects/01_b_Canary_SSL/Canary_SSL_Repo/num_songs_50_num_syllables_10_phrase_repeats_5_radius_0.01/Num_Spectrograms_50_Window_Size_500_Stride_10/Plots/Window_Plots already exists.\n"
     ]
    }
   ],
   "source": [
    "# Create the folder if it doesn't already exist\n",
    "if not os.path.exists(f'{spec_path}Plots/Window_Plots'):\n",
    "    os.makedirs(f'{spec_path}Plots/Window_Plots')\n",
    "    print(f'{spec_path}Plots/Window_Plots created successfully.')\n",
    "else:\n",
    "    print(f'{spec_path}Plots/Window_Plots already exists.')"
   ]
  },
  {
   "cell_type": "code",
   "execution_count": 18,
   "metadata": {},
   "outputs": [
    {
     "data": {
      "text/plain": [
       "(40333, 20000)"
      ]
     },
     "execution_count": 18,
     "metadata": {},
     "output_type": "execute_result"
    }
   ],
   "source": [
    "dat.shape"
   ]
  },
  {
   "cell_type": "code",
   "execution_count": null,
   "metadata": {},
   "outputs": [],
   "source": [
    "# The below function will save an image for each mini-spectrogram. This will be used for understanding the UMAP plot.\n",
    "def embeddable_image(data, window_times, iteration_number):\n",
    "    \n",
    "    data.shape = (window_size, int(data.shape[0]/window_size))\n",
    "    data = data.T \n",
    "    window_times = window_times.reshape(1, window_times.shape[0])\n",
    "    plt.pcolormesh(window_times, masked_frequencies, data, cmap='jet')\n",
    "    # let's save the plt colormesh as an image.\n",
    "    plt.savefig(f'{songpath}Num_Spectrograms_{num_spec}_Window_Size_{window_size}_Stride_{stride}/Plots/Window_Plots/Window_{iteration_number}.png')\n",
    "    plt.close()\n",
    "    \n",
    "for i in np.arange(stacked_windows_for_analysis.shape[0]):\n",
    "    if i%10 == 0:\n",
    "        print(f'Iteration {i} of 50000')\n",
    "    data = stacked_windows_for_analysis[i,:]\n",
    "    window_times = stacked_window_times[i,:]\n",
    "    embeddable_image(data, window_times, i)"
   ]
  },
  {
   "cell_type": "markdown",
   "metadata": {},
   "source": [
    "TweetyNet Specification "
   ]
  },
  {
   "cell_type": "code",
   "execution_count": 19,
   "metadata": {},
   "outputs": [],
   "source": [
    "class TweetyNetCNN(nn.Module):\n",
    "    def __init__(self):\n",
    "        super().__init__()\n",
    "        self.conv1 = nn.Conv2d(\n",
    "            in_channels=1, out_channels=32, kernel_size=(5, 5), stride=1, padding=1)\n",
    "        self.pool1 = nn.MaxPool2d(kernel_size=(8, 1), stride=(8, 1))\n",
    "        self.conv2 = nn.Conv2d(\n",
    "            in_channels=32, out_channels=64, kernel_size=(5, 5), stride=1, padding=1)\n",
    "        self.pool2 = nn.MaxPool2d(kernel_size=(8, 1), stride=(8, 1))\n",
    "        self.relu = nn.ReLU()\n",
    "        self.fc1 = nn.Linear(16128, 4000)\n",
    "        self.fc2 = nn.Linear(4000, 1000)\n",
    "        # self.fc3 = nn.Linear(100, 1)\n",
    "        # self.sigmoid = nn.Sigmoid()\n",
    "\n",
    "    def forward(self, x):\n",
    "        \n",
    "        # Encoder f\n",
    "        x = self.conv1(x)\n",
    "        x = self.relu(x)\n",
    "        x = self.pool1(x)\n",
    "        x = self.conv2(x)\n",
    "        x = self.relu(x)\n",
    "        x = self.pool2(x)\n",
    "        x = torch.flatten(x, 1)\n",
    "        x = self.relu(x)\n",
    "        x = self.fc1(x)\n",
    "        x = self.relu(x)\n",
    "        x = self.fc2(x)\n",
    "        \n",
    "        return x"
   ]
  },
  {
   "cell_type": "code",
   "execution_count": 20,
   "metadata": {},
   "outputs": [
    {
     "name": "stdout",
     "output_type": "stream",
     "text": [
      "Using 2 GPUs!\n"
     ]
    },
    {
     "data": {
      "text/plain": [
       "DataParallel(\n",
       "  (module): TweetyNetCNN(\n",
       "    (conv1): Conv2d(1, 32, kernel_size=(5, 5), stride=(1, 1), padding=(1, 1))\n",
       "    (pool1): MaxPool2d(kernel_size=(8, 1), stride=(8, 1), padding=0, dilation=1, ceil_mode=False)\n",
       "    (conv2): Conv2d(32, 64, kernel_size=(5, 5), stride=(1, 1), padding=(1, 1))\n",
       "    (pool2): MaxPool2d(kernel_size=(8, 1), stride=(8, 1), padding=0, dilation=1, ceil_mode=False)\n",
       "    (relu): ReLU()\n",
       "    (fc1): Linear(in_features=16128, out_features=4000, bias=True)\n",
       "    (fc2): Linear(in_features=4000, out_features=1000, bias=True)\n",
       "  )\n",
       ")"
      ]
     },
     "execution_count": 20,
     "metadata": {},
     "output_type": "execute_result"
    }
   ],
   "source": [
    "patience = 20\n",
    "learning_rate = 0.001\n",
    "projection_units = 1000\n",
    "num_epochs = 100\n",
    "\n",
    "if torch.cuda.is_available():\n",
    "    device = \"cuda:0\"\n",
    "else:\n",
    "    device = \"cpu\"\n",
    "\n",
    "# Check if multiple GPUs are available\n",
    "if torch.cuda.device_count() > 1:\n",
    "    print(f\"Using {torch.cuda.device_count()} GPUs!\")\n",
    "    # If so, wrap the model using nn.DataParallel\n",
    "    cnn_model = nn.DataParallel(TweetyNetCNN()).double()\n",
    "else:\n",
    "    cnn_model = TweetyNetCNN().double()\n",
    "\n",
    "      \n",
    "# cnn_model = TweetyNetCNN()\n",
    "# cnn_model.double().to(device)\n",
    "cnn_model.to(device)  # Send model to GPU"
   ]
  },
  {
   "cell_type": "markdown",
   "metadata": {},
   "source": [
    "#### Extract Untrained model embedding"
   ]
  },
  {
   "cell_type": "code",
   "execution_count": 21,
   "metadata": {},
   "outputs": [],
   "source": [
    "files = os.listdir(f'{songpath}Num_Spectrograms_{num_spec}_Window_Size_{window_size}_Stride_{stride}/')\n",
    "all_batches = [element for element in files if 'untrained_backbone_rep_of_batch_index_' in element] # Get the file paths of each numpy file from Yarden's data\n",
    "all_batches.sort()"
   ]
  },
  {
   "cell_type": "code",
   "execution_count": 22,
   "metadata": {},
   "outputs": [],
   "source": [
    "embedding_arr = np.empty((0, 4000))\n",
    "for i in all_batches:\n",
    "    arr = np.load(f'{songpath}Num_Spectrograms_{num_spec}_Window_Size_{window_size}_Stride_{stride}/{i}')\n",
    "    embedding_arr = np.concatenate((embedding_arr, arr))"
   ]
  },
  {
   "cell_type": "code",
   "execution_count": 23,
   "metadata": {},
   "outputs": [],
   "source": [
    "files = os.listdir(f'{songpath}Num_Spectrograms_{num_spec}_Window_Size_{window_size}_Stride_{stride}/')\n",
    "all_batches = [element for element in files if 'untrained_proj_rep_of_batch_index_' in element] # Get the file paths of each numpy file from Yarden's data\n",
    "all_batches.sort()"
   ]
  },
  {
   "cell_type": "code",
   "execution_count": 24,
   "metadata": {},
   "outputs": [],
   "source": [
    "proj_arr = np.empty((0, 1000))\n",
    "for i in all_batches:\n",
    "    arr = np.load(f'{songpath}Num_Spectrograms_{num_spec}_Window_Size_{window_size}_Stride_{stride}/{i}')\n",
    "    proj_arr = np.concatenate((proj_arr, arr))"
   ]
  },
  {
   "cell_type": "code",
   "execution_count": 25,
   "metadata": {},
   "outputs": [],
   "source": [
    "untrained_backbone_umap_rep = np.load(f'{songpath}Num_Spectrograms_{num_spec}_Window_Size_{window_size}_Stride_{stride}/backbone_umap_rep_of_untrained_model_embedding.npy')"
   ]
  },
  {
   "cell_type": "code",
   "execution_count": 26,
   "metadata": {},
   "outputs": [],
   "source": [
    "untrained_proj_umap_rep = np.load(f'{songpath}Num_Spectrograms_{num_spec}_Window_Size_{window_size}_Stride_{stride}/proj_umap_rep_of_untrained_model_embedding.npy')"
   ]
  },
  {
   "cell_type": "markdown",
   "metadata": {},
   "source": [
    "UMAP representation of untrained model backbone"
   ]
  },
  {
   "cell_type": "code",
   "execution_count": 27,
   "metadata": {},
   "outputs": [],
   "source": [
    "# Specify an HTML file to save the Bokeh image to.\n",
    "output_file(filename=f'{songpath}Num_Spectrograms_{num_spec}_Window_Size_{window_size}_Stride_{stride}/Plots/umap_of_untrained_model_backbone.html')\n",
    "\n",
    "# Convert the UMAP embedding to a Pandas Dataframe\n",
    "spec_df = pd.DataFrame(untrained_backbone_umap_rep, columns=('x', 'y'))\n",
    "\n",
    "\n",
    "# Create a ColumnDataSource from the data. This contains the UMAP embedding components and the mean colors per mini-spectrogram\n",
    "source = ColumnDataSource(data=dict(x = untrained_backbone_umap_rep[:,0], y = untrained_backbone_umap_rep[:,1], colors=mean_colors_per_minispec_train))\n",
    "\n",
    "\n",
    "# Create a figure and add a scatter plot\n",
    "p = figure(width=800, height=600, tools=('pan, box_zoom, hover, reset'))\n",
    "p.scatter(x='x', y='y', size = 7, color = 'colors', source=source)\n",
    "\n",
    "hover = p.select(dict(type=HoverTool))\n",
    "hover.tooltips = \"\"\"\n",
    "    <div>\n",
    "        <h3>@x, @y</h3>\n",
    "        <div>\n",
    "            <img\n",
    "                src=\"@image\" height=\"100\" alt=\"@image\" width=\"100\"\n",
    "                style=\"float: left; margin: 0px 15px 15px 0px;\"\n",
    "                border=\"2\"\n",
    "            ></img>\n",
    "        </div>\n",
    "    </div>\n",
    "\"\"\"\n",
    "\n",
    "p.add_tools(HoverTool(tooltips=\"\"\"\n",
    "\"\"\"))\n",
    "\n",
    "\n",
    "# Now let's overlay the spectrogram slice images. We want to exclude the transition state slices and also consider the shuffling\n",
    "\n",
    "total_indices = np.arange(0, stacked_windows.shape[0])\n",
    "# total_indices = np.delete(total_indices, transition_rows[0])\n",
    "total_indices = total_indices[shuffled_indices]\n",
    "train_indices = total_indices[:split_point]\n",
    "\n",
    "# Set the image path for each data point\n",
    "# source.data['image'] = []\n",
    "# for i in np.arange(train_indices.shape[0]):\n",
    "#     source.data['image'].append(f'{folder_name_for_plotting}/Plots/Window_Plots/Window_{train_indices[i]}.png')\n",
    "\n",
    "show(p)\n",
    "# save(p)"
   ]
  },
  {
   "cell_type": "markdown",
   "metadata": {},
   "source": [
    "UMAP representation of untrained model backbone"
   ]
  },
  {
   "cell_type": "code",
   "execution_count": 28,
   "metadata": {},
   "outputs": [],
   "source": [
    "# Specify an HTML file to save the Bokeh image to.\n",
    "output_file(filename=f'{songpath}Num_Spectrograms_{num_spec}_Window_Size_{window_size}_Stride_{stride}/Plots/umap_of_untrained_model_projection.html')\n",
    "\n",
    "# Convert the UMAP embedding to a Pandas Dataframe\n",
    "spec_df = pd.DataFrame(untrained_proj_umap_rep, columns=('x', 'y'))\n",
    "\n",
    "\n",
    "# Create a ColumnDataSource from the data. This contains the UMAP embedding components and the mean colors per mini-spectrogram\n",
    "source = ColumnDataSource(data=dict(x = untrained_proj_umap_rep[:,0], y = untrained_proj_umap_rep[:,1], colors=mean_colors_per_minispec_train))\n",
    "\n",
    "\n",
    "# Create a figure and add a scatter plot\n",
    "p = figure(width=800, height=600, tools=('pan, box_zoom, hover, reset'))\n",
    "p.scatter(x='x', y='y', size = 7, color = 'colors', source=source)\n",
    "\n",
    "hover = p.select(dict(type=HoverTool))\n",
    "hover.tooltips = \"\"\"\n",
    "    <div>\n",
    "        <h3>@x, @y</h3>\n",
    "        <div>\n",
    "            <img\n",
    "                src=\"@image\" height=\"100\" alt=\"@image\" width=\"100\"\n",
    "                style=\"float: left; margin: 0px 15px 15px 0px;\"\n",
    "                border=\"2\"\n",
    "            ></img>\n",
    "        </div>\n",
    "    </div>\n",
    "\"\"\"\n",
    "\n",
    "p.add_tools(HoverTool(tooltips=\"\"\"\n",
    "\"\"\"))\n",
    "\n",
    "\n",
    "# Now let's overlay the spectrogram slice images. We want to exclude the transition state slices and also consider the shuffling\n",
    "\n",
    "total_indices = np.arange(0, stacked_windows.shape[0])\n",
    "# total_indices = np.delete(total_indices, transition_rows[0])\n",
    "total_indices = total_indices[shuffled_indices]\n",
    "train_indices = total_indices[:split_point]\n",
    "\n",
    "# # Set the image path for each data point\n",
    "# source.data['image'] = []\n",
    "# for i in np.arange(train_indices.shape[0]):\n",
    "#     source.data['image'].append(f'{folder_name_for_plotting}/Plots/Window_Plots/Window_{train_indices[i]}.png')\n",
    "\n",
    "show(p)\n",
    "# save(p)"
   ]
  },
  {
   "cell_type": "markdown",
   "metadata": {},
   "source": [
    "The backbone representation and the projection representation look the same using the untrained model. NOw let's train the model and compare. "
   ]
  },
  {
   "cell_type": "markdown",
   "metadata": {},
   "source": [
    "### Setting up Contrastive Learning"
   ]
  },
  {
   "cell_type": "markdown",
   "metadata": {},
   "source": [
    "#### Augmentation Class"
   ]
  },
  {
   "cell_type": "markdown",
   "metadata": {},
   "source": [
    "We will use a white noise augmentation to start off with"
   ]
  },
  {
   "cell_type": "code",
   "execution_count": 29,
   "metadata": {},
   "outputs": [],
   "source": [
    "class White_Noise:\n",
    "    def __init__(self, noise_level):\n",
    "        \n",
    "        self.noise_level = noise_level\n",
    "        \n",
    "    def __call__(self, x):\n",
    "        \n",
    "        noise = torch.randn_like(x) * self.noise_level\n",
    "        x = x + noise\n",
    "        return x\n",
    "\n",
    "# Transforms\n",
    "noise_level = 1\n",
    "wn = White_Noise(noise_level)"
   ]
  },
  {
   "cell_type": "markdown",
   "metadata": {},
   "source": [
    "Let's see what this augmentation type looks like"
   ]
  },
  {
   "cell_type": "code",
   "execution_count": 30,
   "metadata": {},
   "outputs": [
    {
     "data": {
      "text/plain": [
       "<matplotlib.image.AxesImage at 0x7ef9480d2980>"
      ]
     },
     "execution_count": 30,
     "metadata": {},
     "output_type": "execute_result"
    },
    {
     "data": {
      "image/png": "[encoded data removed]",
      "text/plain": [
       "<Figure size 1008x720 with 1 Axes>"
      ]
     },
     "metadata": {},
     "output_type": "display_data"
    }
   ],
   "source": [
    "a = stacked_windows_train.clone()\n",
    "aa = a[11,:]\n",
    "aa = aa.reshape(500, 40)\n",
    "b = wn(aa)\n",
    "plt.figure()\n",
    "plt.imshow(b, cmap = 'gray')\n"
   ]
  },
  {
   "cell_type": "markdown",
   "metadata": {},
   "source": [
    "Extract model representation for each training spectrogram slice"
   ]
  },
  {
   "cell_type": "code",
   "execution_count": 31,
   "metadata": {},
   "outputs": [],
   "source": [
    "files = os.listdir(f'{songpath}Num_Spectrograms_{num_spec}_Window_Size_{window_size}_Stride_{stride}/')\n",
    "all_batches = [element for element in files if '_tryagain_trained_proj_rep_of_batch_index_' in element] # Get the file paths of each numpy file from Yarden's data\n",
    "all_batches.sort()"
   ]
  },
  {
   "cell_type": "code",
   "execution_count": 32,
   "metadata": {},
   "outputs": [],
   "source": [
    "proj_arr = np.empty((0, 1000))\n",
    "for i in all_batches:\n",
    "    arr = np.load(f'{songpath}Num_Spectrograms_{num_spec}_Window_Size_{window_size}_Stride_{stride}/{i}')\n",
    "    proj_arr = np.concatenate((proj_arr, arr))"
   ]
  },
  {
   "cell_type": "code",
   "execution_count": null,
   "metadata": {},
   "outputs": [],
   "source": [
    "trained_proj_umap_rep = np.load(f'{spec_path}trained_proj_umap_rep.npy')"
   ]
  },
  {
   "cell_type": "code",
   "execution_count": 33,
   "metadata": {},
   "outputs": [
    {
     "name": "stderr",
     "output_type": "stream",
     "text": [
      "/usr/lib/python3/dist-packages/sklearn/manifold/_spectral_embedding.py:236: UserWarning: Graph is not fully connected, spectral embedding may not work as expected.\n",
      "  warnings.warn(\"Graph is not fully connected, spectral embedding\"\n"
     ]
    }
   ],
   "source": [
    "reducer = umap.UMAP()\n",
    "trained_proj_umap_rep = reducer.fit_transform(proj_arr)\n",
    "np.save(f'{spec_path}trained_proj_umap_rep.npy', trained_proj_umap_rep)"
   ]
  },
  {
   "cell_type": "code",
   "execution_count": 34,
   "metadata": {},
   "outputs": [],
   "source": [
    "# Specify an HTML file to save the Bokeh image to.\n",
    "output_file(filename=f'{songpath}Num_Spectrograms_{num_spec}_Window_Size_{window_size}_Stride_{stride}/Plots/umap_of_trained_model_projection.html')\n",
    "\n",
    "# Convert the UMAP embedding to a Pandas Dataframe\n",
    "spec_df = pd.DataFrame(trained_proj_umap_rep, columns=('x', 'y'))\n",
    "\n",
    "\n",
    "# Create a ColumnDataSource from the data. This contains the UMAP embedding components and the mean colors per mini-spectrogram\n",
    "source = ColumnDataSource(data=dict(x = trained_proj_umap_rep[:,0], y = trained_proj_umap_rep[:,1], colors=mean_colors_per_minispec_train))\n",
    "\n",
    "\n",
    "# Create a figure and add a scatter plot\n",
    "p = figure(width=800, height=600, tools=('pan, box_zoom, hover, reset'))\n",
    "p.scatter(x='x', y='y', size = 7, color = 'colors', source=source)\n",
    "\n",
    "hover = p.select(dict(type=HoverTool))\n",
    "hover.tooltips = \"\"\"\n",
    "    <div>\n",
    "        <h3>@x, @y</h3>\n",
    "        <div>\n",
    "            <img\n",
    "                src=\"@image\" height=\"100\" alt=\"@image\" width=\"100\"\n",
    "                style=\"float: left; margin: 0px 15px 15px 0px;\"\n",
    "                border=\"2\"\n",
    "            ></img>\n",
    "        </div>\n",
    "    </div>\n",
    "\"\"\"\n",
    "\n",
    "p.add_tools(HoverTool(tooltips=\"\"\"\n",
    "\"\"\"))\n",
    "\n",
    "\n",
    "# Now let's overlay the spectrogram slice images. We want to exclude the transition state slices and also consider the shuffling\n",
    "\n",
    "total_indices = np.arange(0, stacked_windows.shape[0])\n",
    "# total_indices = np.delete(total_indices, transition_rows[0])\n",
    "total_indices = total_indices[shuffled_indices]\n",
    "train_indices = total_indices[:split_point]\n",
    "\n",
    "# # Set the image path for each data point\n",
    "# source.data['image'] = []\n",
    "# for i in np.arange(train_indices.shape[0]):\n",
    "#     source.data['image'].append(f'{folder_name_for_plotting}/Plots/Window_Plots/Window_{train_indices[i]}.png')\n",
    "\n",
    "show(p)\n",
    "# save(p)"
   ]
  },
  {
   "cell_type": "markdown",
   "metadata": {},
   "source": [
    "#### Downstream classifier"
   ]
  },
  {
   "cell_type": "code",
   "execution_count": 35,
   "metadata": {},
   "outputs": [
    {
     "data": {
      "text/plain": [
       "(32266,)"
      ]
     },
     "execution_count": 35,
     "metadata": {},
     "output_type": "execute_result"
    }
   ],
   "source": [
    "lab_vals_arr = actual_labels_train.clone().cpu().detach().numpy()\n",
    "lab_vals_arr.shape"
   ]
  },
  {
   "cell_type": "code",
   "execution_count": 36,
   "metadata": {},
   "outputs": [
    {
     "name": "stdout",
     "output_type": "stream",
     "text": [
      "Accuracy: 1.0000\n"
     ]
    }
   ],
   "source": [
    "from sklearn.svm import SVC\n",
    "# Create a SVM classifier with a radial basis function (RBF) kernel\n",
    "clf = SVC(kernel='linear', C=1, probability= True, decision_function_shape='ovr')\n",
    "\n",
    "# Train the classifier\n",
    "clf.fit(proj_arr, lab_vals_arr)\n",
    "\n",
    "# Predict on test data\n",
    "y_pred = clf.predict(proj_arr)\n",
    "\n",
    "# Calculate the accuracy\n",
    "accuracy = (y_pred == lab_vals_arr).mean()\n",
    "print(f\"Accuracy: {accuracy:.4f}\")"
   ]
  },
  {
   "cell_type": "code",
   "execution_count": 37,
   "metadata": {},
   "outputs": [
    {
     "data": {
      "text/plain": [
       "10"
      ]
     },
     "execution_count": 37,
     "metadata": {},
     "output_type": "execute_result"
    }
   ],
   "source": [
    "np.unique(lab_vals_arr).shape[0]"
   ]
  },
  {
   "cell_type": "code",
   "execution_count": 38,
   "metadata": {},
   "outputs": [
    {
     "name": "stdout",
     "output_type": "stream",
     "text": [
      "KS Statistic for Class 0: 0.839\n",
      "KS Statistic for Class 1: 0.843\n",
      "KS Statistic for Class 2: 0.888\n",
      "KS Statistic for Class 3: 0.831\n",
      "KS Statistic for Class 4: 0.858\n",
      "KS Statistic for Class 5: 0.805\n",
      "KS Statistic for Class 6: 0.841\n",
      "KS Statistic for Class 7: 0.814\n",
      "KS Statistic for Class 8: 0.814\n",
      "KS Statistic for Class 9: 0.838\n"
     ]
    }
   ],
   "source": [
    "from scipy.stats import ks_2samp\n",
    "\n",
    "n_classes = np.unique(lab_vals_arr).shape[0]\n",
    "ks_statistics = []\n",
    "\n",
    "for i in range(n_classes):\n",
    "    # Get the predicted probabilities for the class being positive\n",
    "    positive_probs = clf.predict_proba(proj_arr)[:, i]\n",
    "    \n",
    "    # Combine predicted probabilities of all other classes as negative\n",
    "    negative_probs = clf.predict_proba(proj_arr)[:, :i].sum(axis=1) + clf.predict_proba(proj_arr)[:, i+1:].sum(axis=1)\n",
    "    \n",
    "    # Compute the KS statistic\n",
    "    ks_stat, p_value = ks_2samp(positive_probs, negative_probs)\n",
    "    ks_statistics.append(ks_stat)\n",
    "\n",
    "    print(f\"KS Statistic for Class {i}: {ks_stat:.3f}\")"
   ]
  },
  {
   "cell_type": "code",
   "execution_count": null,
   "metadata": {},
   "outputs": [],
   "source": []
  }
 ],
 "metadata": {
  "kernelspec": {
   "display_name": "Python 3",
   "language": "python",
   "name": "python3"
  },
  "language_info": {
   "codemirror_mode": {
    "name": "ipython",
    "version": 3
   },
   "file_extension": ".py",
   "mimetype": "text/x-python",
   "name": "python",
   "nbconvert_exporter": "python",
   "pygments_lexer": "ipython3",
   "version": "3.10.12"
  },
  "orig_nbformat": 4
 },
 "nbformat": 4,
 "nbformat_minor": 2
}
